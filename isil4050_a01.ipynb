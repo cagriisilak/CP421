{
  "nbformat": 4,
  "nbformat_minor": 0,
  "metadata": {
    "colab": {
      "provenance": []
    },
    "kernelspec": {
      "name": "python3",
      "display_name": "Python 3"
    },
    "language_info": {
      "name": "python"
    }
  },
  "cells": [
    {
      "cell_type": "markdown",
      "source": [
        "#1.2 Assignment Description"
      ],
      "metadata": {
        "id": "edcrQjHOq9KZ"
      }
    },
    {
      "cell_type": "markdown",
      "source": [
        "1. Data Loading and Preprocessing (1 point)\n",
        "\n",
        "(a) Load the Breast Cancer dataset from the “sklearn.datasets” module.\n",
        "\n",
        "(b) Split the dataset into training and testing sets (80% training, 20% testing)."
      ],
      "metadata": {
        "id": "S83I1QrHrAaa"
      }
    },
    {
      "cell_type": "code",
      "execution_count": 2,
      "metadata": {
        "id": "m7H8HD-AqRTV"
      },
      "outputs": [],
      "source": [
        "#a)\n",
        "import sklearn as sk\n",
        "import pandas as pd\n",
        "import matplotlib.pyplot as plt\n",
        "from sklearn.datasets import load_breast_cancer\n",
        "from sklearn.model_selection import train_test_split\n",
        "\n",
        "bc = load_breast_cancer()\n",
        "\n",
        "#b)\n",
        "x = bc.data\n",
        "y = bc.target\n",
        "x_train, x_test, y_train, y_test = train_test_split(x, y, test_size=0.20, random_state=42)\n"
      ]
    },
    {
      "cell_type": "markdown",
      "source": [
        "2. Decision Tree Implementation (2 points)\n",
        "\n",
        "(a) Import the DecisionTreeClassifier from “sklearn.tree”.\n",
        "\n",
        "(b) Initialize the Decision Tree classifier with appropriate parameters.\n",
        "\n",
        "(c) Train the model on the training set.\n",
        "\n",
        "(d) Make predictions on the testing set.\n",
        "\n",
        "(e) Evaluate the model using appropriate metrics including accuracy, precision, recall, and F1-score.\n",
        "\n",
        "(f) Generate and display a confusion matrix."
      ],
      "metadata": {
        "id": "uVjs2hpeq8Rn"
      }
    },
    {
      "cell_type": "code",
      "source": [
        "#a)\n",
        "from sklearn.tree import DecisionTreeClassifier\n",
        "from sklearn.metrics import accuracy_score, precision_score, recall_score, f1_score, confusion_matrix\n",
        "import seaborn as sns\n",
        "\n",
        "#b)\n",
        "dt_classifier = DecisionTreeClassifier(random_state=42)\n",
        "\n",
        "#c)\n",
        "dt_classifier.fit(x_train, y_train)\n",
        "\n",
        "#d)\n",
        "y_pred = dt_classifier.predict(x_test)\n",
        "\n",
        "#e)\n",
        "accuracy = accuracy_score(y_test, y_pred)\n",
        "precision = precision_score(y_test, y_pred)\n",
        "recall = recall_score(y_test, y_pred)\n",
        "f1 = f1_score(y_test, y_pred)\n",
        "\n",
        "print(f'Accuracy: {accuracy:.4f}')\n",
        "print(f'Precision: {precision:.4f}')\n",
        "print(f'Recall: {recall:.4f}')\n",
        "print(f'F1-score: {f1:.4f}')\n",
        "\n",
        "#f)\n",
        "conf_matrix = confusion_matrix(y_test, y_pred)\n",
        "sns.heatmap(conf_matrix, annot=True, fmt='d', cmap='Blues')\n",
        "plt.xlabel('Predicted')\n",
        "plt.ylabel('Actual')\n",
        "plt.title('Confusion Matrix')\n",
        "plt.show()\n",
        "\n",
        "\n"
      ],
      "metadata": {
        "colab": {
          "base_uri": "https://localhost:8080/",
          "height": 541
        },
        "id": "bgazimoyiHfk",
        "outputId": "d0fe9349-1efc-4563-e282-134988bb3577"
      },
      "execution_count": 3,
      "outputs": [
        {
          "output_type": "stream",
          "name": "stdout",
          "text": [
            "Accuracy: 0.9474\n",
            "Precision: 0.9577\n",
            "Recall: 0.9577\n",
            "F1-score: 0.9577\n"
          ]
        },
        {
          "output_type": "display_data",
          "data": {
            "text/plain": [
              "<Figure size 640x480 with 2 Axes>"
            ],
            "image/png": "[encoded data removed]"
          },
          "metadata": {}
        }
      ]
    },
    {
      "cell_type": "markdown",
      "source": [
        "3. Random Forest Implementation (2 points)\n",
        "\n",
        "(a) Import the RandomForestClassifier from “sklearn.ensemble”.\n",
        "\n",
        "(b) Initialize the Random Forest classifier with appropriate parameters (e.g., number of trees, maximum depth).\n",
        "\n",
        "(c) Train the model on the training set.\n",
        "\n",
        "(d) Make predictions on the testing set.\n",
        "\n",
        "(e) Evaluate the model using appropriate metrics including accuracy, precision, recall, and F1-score.\n",
        "\n",
        "(f) Generate and display a confusion matrix."
      ],
      "metadata": {
        "id": "Tyk8Q51iszYo"
      }
    },
    {
      "cell_type": "code",
      "source": [
        "#a)\n",
        "from sklearn.ensemble import RandomForestClassifier\n",
        "\n",
        "#b)\n",
        "rf_classifier = RandomForestClassifier(n_estimators=100, max_depth=5, random_state=42)\n",
        "\n",
        "#c)\n",
        "rf_classifier.fit(x_train, y_train)\n",
        "\n",
        "#d)\n",
        "y_pred_rf = rf_classifier.predict(x_test)\n",
        "\n",
        "#e)\n",
        "accuracy_rf = accuracy_score(y_test, y_pred_rf)\n",
        "precision_rf = precision_score(y_test, y_pred_rf)\n",
        "recall_rf = recall_score(y_test, y_pred_rf)\n",
        "f1_rf = f1_score(y_test, y_pred_rf)\n",
        "\n",
        "print(f'Accuracy: {accuracy_rf:.4f}')\n",
        "print(f'Precision: {precision_rf:.4f}')\n",
        "print(f'Recall: {recall_rf:.4f}')\n",
        "print(f'F1-score: {f1_rf:.4f}')\n",
        "\n",
        "#f)\n",
        "conf_matrix_rf = confusion_matrix(y_test, y_pred_rf)\n",
        "sns.heatmap(conf_matrix_rf, annot=True, fmt='d', cmap='Blues')\n",
        "plt.xlabel('Predicted')\n",
        "plt.ylabel('Actual')\n",
        "plt.title('Confusion Matrix - Random Forest')\n",
        "plt.show()"
      ],
      "metadata": {
        "colab": {
          "base_uri": "https://localhost:8080/",
          "height": 541
        },
        "id": "D0-yYeE7H0YW",
        "outputId": "013124e5-a0d2-4957-849d-90b74620eb05"
      },
      "execution_count": 4,
      "outputs": [
        {
          "output_type": "stream",
          "name": "stdout",
          "text": [
            "Accuracy: 0.9649\n",
            "Precision: 0.9589\n",
            "Recall: 0.9859\n",
            "F1-score: 0.9722\n"
          ]
        },
        {
          "output_type": "display_data",
          "data": {
            "text/plain": [
              "<Figure size 640x480 with 2 Axes>"
            ],
            "image/png": "[encoded data removed]"
          },
          "metadata": {}
        }
      ]
    },
    {
      "cell_type": "markdown",
      "source": [
        "4. Hyperparameter Tuning using Grid Search (2 points)\n",
        "\n",
        "(a) Grid search is a technique for finding the optimal hyperparameters for a model. It works by exhaustively searching\n",
        "through a specified parameter grid to determine the best combination of parameters based on cross-validation\n",
        "performance. Experiment with different hyperparameters for the Random Forest (e.g., number of trees, maximum\n",
        "depth, minimum samples split, minimum samples leaf) using GridSearchCV from “sklearn.model selection”.\n",
        "\n",
        "(b) Use cross-validation to find the best set of hyperparameters.\n",
        "\n",
        "(c) Train the Random Forest model with the optimal parameters found from grid search.\n",
        "\n",
        "(d) Present the results of your tuning and explain which combination of hyperparameters worked best and why."
      ],
      "metadata": {
        "id": "grrlAarGs-qE"
      }
    },
    {
      "cell_type": "code",
      "source": [
        "from sklearn.model_selection import GridSearchCV\n",
        "from sklearn.ensemble import RandomForestClassifier\n",
        "\n",
        "#a)\n",
        "param_grid = {\n",
        "    'n_estimators': [50, 100, 200],\n",
        "    'max_depth': [None, 10, 20, 30],\n",
        "    'min_samples_split': [2, 5, 10],\n",
        "    'min_samples_leaf': [1, 2, 4]\n",
        "}\n",
        "\n",
        "rf_classifier = RandomForestClassifier(random_state=42)\n",
        "\n",
        "grid_search = GridSearchCV(estimator=rf_classifier, param_grid=param_grid,\n",
        "                           cv=5, n_jobs=-1, verbose=2, scoring='accuracy')\n",
        "\n",
        "grid_search.fit(x_train, y_train)\n",
        "\n",
        "print(\"Best Hyperparameters:\", grid_search.best_params_)\n",
        "\n",
        "#b)\n",
        "grid_search.fit(x_train, y_train)\n",
        "\n",
        "best_params = grid_search.best_params_\n",
        "\n",
        "#c)\n",
        "best_rf_classifier = RandomForestClassifier(**best_params, random_state=42)\n",
        "\n",
        "best_rf_classifier.fit(x_train, y_train)\n",
        "\n",
        "y_pred_best_rf = best_rf_classifier.predict(x_test)\n",
        "\n",
        "accuracy_best_rf = accuracy_score(y_test, y_pred_best_rf)\n",
        "precision_best_rf = precision_score(y_test, y_pred_best_rf)\n",
        "recall_best_rf = recall_score(y_test, y_pred_best_rf)\n",
        "f1_best_rf = f1_score(y_test, y_pred_best_rf)\n",
        "\n",
        "print(f'Optimized Accuracy: {accuracy_best_rf:.4f}')\n",
        "print(f'Optimized Precision: {precision_best_rf:.4f}')\n",
        "print(f'Optimized Recall: {recall_best_rf:.4f}')\n",
        "print(f'Optimized F1-score: {f1_best_rf:.4f}')\n",
        "\n",
        "#d)\n",
        "print(\"Best Hyperparameters found: \", best_params)\n",
        "#This combination of hyperparameters allows a large amount of complexity to be captured, with which Random Forests are able to aggregate without significant overfitting."
      ],
      "metadata": {
        "id": "Ekygc6zktCQn",
        "colab": {
          "base_uri": "https://localhost:8080/"
        },
        "outputId": "61d062f2-50e6-49cd-86fd-3f8598d80bde"
      },
      "execution_count": 7,
      "outputs": [
        {
          "output_type": "stream",
          "name": "stdout",
          "text": [
            "Fitting 5 folds for each of 108 candidates, totalling 540 fits\n",
            "Best Hyperparameters: {'max_depth': None, 'min_samples_leaf': 1, 'min_samples_split': 2, 'n_estimators': 200}\n",
            "Fitting 5 folds for each of 108 candidates, totalling 540 fits\n",
            "Best Hyperparameters found:  {'max_depth': None, 'min_samples_leaf': 1, 'min_samples_split': 2, 'n_estimators': 200}\n",
            "Optimized Accuracy: 0.9649\n",
            "Optimized Precision: 0.9589\n",
            "Optimized Recall: 0.9859\n",
            "Optimized F1-score: 0.9722\n"
          ]
        }
      ]
    },
    {
      "cell_type": "markdown",
      "source": [
        "5. Model Comparison (3 points)\n",
        "\n",
        "(a) Compare the performance of the Decision Tree and Random Forest models using the evaluation metrics.\n",
        "\n",
        "(b) Discuss which model performed better and why.\n",
        "\n",
        "(c) Analyze the results to determine the impact of using an ensemble method (Random Forest) over a single model (Decision Tree)."
      ],
      "metadata": {
        "id": "OODOOa2ntQEh"
      }
    },
    {
      "cell_type": "code",
      "source": [
        "#a)\n",
        "#Decision tree:\n",
        "#Accuracy: 0.9474\n",
        "#Precision: 0.9577\n",
        "#Recall: 0.9577\n",
        "#F1-score: 0.9577\n",
        "\n",
        "#Random Forest\n",
        "#Accuracy: 0.9649\n",
        "#Precision: 0.9589\n",
        "#Recall: 0.9859\n",
        "#F1-score: 0.9722\n",
        "\n",
        "#b)\n",
        "#Random Forest is more accurate, and has a notable improvement in recall, meaning it misses fewer true positives. The F1-score is higher too, meaning theres a better balance between precision and recall.\n",
        "\n",
        "#c)\n",
        "#Random forest performed better because it is an ensemble method. The larger sample size of decision trees rather than just one reduced variance overall.\n",
        "#There is also more randomness, and random forest is less prone to overfitting because of the multiple trees that focus on different parts."
      ],
      "metadata": {
        "id": "x4U6XFcJH1LH"
      },
      "execution_count": 8,
      "outputs": []
    }
  ]
}